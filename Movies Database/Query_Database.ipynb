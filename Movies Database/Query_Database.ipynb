{
 "cells": [
  {
   "attachments": {},
   "cell_type": "markdown",
   "metadata": {},
   "source": [
    "**Import necessary libraries and methods**"
   ]
  },
  {
   "cell_type": "code",
   "execution_count": 1,
   "metadata": {},
   "outputs": [],
   "source": [
    "#import necessary libraries, functions or methods\n",
    "import mysql.connector\n",
    "from mysql.connector import Error"
   ]
  },
  {
   "attachments": {},
   "cell_type": "markdown",
   "metadata": {},
   "source": [
    "**#################### FUNCTIONS ####################**"
   ]
  },
  {
   "cell_type": "code",
   "execution_count": 3,
   "metadata": {},
   "outputs": [],
   "source": [
    "#function to connect to a MySQL DataBase\n",
    "def create_connection(host_name, user_name, user_password, bd_name):\n",
    "    connection = None\n",
    "    try:\n",
    "        connection = mysql.connector.connect(\n",
    "            host = host_name,\n",
    "            user = user_name,\n",
    "            passwd = user_password,\n",
    "            database = bd_name\n",
    "        )\n",
    "        print(f\"Successful connection to the MySQL database '{bd_name}'\")\n",
    "    \n",
    "    except Error as e:\n",
    "        print(f\"Error occurred -> '{e}'\")\n",
    "    \n",
    "    return connection"
   ]
  },
  {
   "cell_type": "code",
   "execution_count": 4,
   "metadata": {},
   "outputs": [],
   "source": [
    "#function to execute queries\n",
    "def execute_query(connection, query):\n",
    "    cursor = connection.cursor()\n",
    "    try:\n",
    "        cursor.execute(query)\n",
    "        connection.commit()\n",
    "        print('Query executed successfully')\n",
    "    except Error as e:\n",
    "        print(f\"Error occurred -> {e}'\")"
   ]
  },
  {
   "cell_type": "code",
   "execution_count": 5,
   "metadata": {},
   "outputs": [],
   "source": [
    "#function for query reading\n",
    "def execute_read_query(connection, query):\n",
    "    cursor = connection.cursor()\n",
    "    result = None\n",
    "    try:\n",
    "        cursor.execute(query)\n",
    "        result = cursor.fetchall()\n",
    "        return result\n",
    "    except Error as e:\n",
    "        print(f\"Error ocurred -> '{e}' during reading\")"
   ]
  },
  {
   "attachments": {},
   "cell_type": "markdown",
   "metadata": {},
   "source": [
    "**Connection to \"movies\" Database on MySQL Server**"
   ]
  },
  {
   "cell_type": "code",
   "execution_count": 6,
   "metadata": {},
   "outputs": [
    {
     "name": "stdout",
     "output_type": "stream",
     "text": [
      "Successful connection to the MySQL database 'movies'\n"
     ]
    }
   ],
   "source": [
    "connection = create_connection('localhost', 'root', 'Carlos123', 'movies')"
   ]
  },
  {
   "attachments": {},
   "cell_type": "markdown",
   "metadata": {},
   "source": [
    "**Query to enter data into the \"genres\" table\"**\n",
    "\n",
    "The data has already been entered into the \"genres\" table, so the execution will not be displayed in this notebook."
   ]
  },
  {
   "cell_type": "code",
   "execution_count": null,
   "metadata": {},
   "outputs": [],
   "source": [
    "data_to_genres = \"\"\"\n",
    "INSERT INTO\n",
    "movies.genres (gen_id, get_title)\n",
    "VALUES\n",
    "  ('1001','Action'),\n",
    "  ('1002','Adventure'),\n",
    "  ('1003','Animation'),\n",
    "  ('1004','Biography'),\n",
    "  ('1005','Comedy'),\n",
    "  ('1006','Crime'),\n",
    "  ('1007','Drama'),\n",
    "  ('1008','Horror'),\n",
    "  ('1009','Music'),\n",
    "  ('1010','Mystery'),\n",
    "  ('1011','Romance'),\n",
    "  ('1012','Thriller'),\n",
    "  ('1013','War');\n",
    "\"\"\"\n",
    "\n",
    "execute_query(connection, data_to_genres)"
   ]
  },
  {
   "attachments": {},
   "cell_type": "markdown",
   "metadata": {},
   "source": [
    "**Query to read the data entered in the \"genres\" table**"
   ]
  },
  {
   "cell_type": "code",
   "execution_count": 7,
   "metadata": {},
   "outputs": [
    {
     "data": {
      "text/plain": [
       "[(1001, 'Action'),\n",
       " (1002, 'Adventure'),\n",
       " (1003, 'Animation'),\n",
       " (1004, 'Biography'),\n",
       " (1005, 'Comedy'),\n",
       " (1006, 'Crime'),\n",
       " (1007, 'Drama'),\n",
       " (1008, 'Horror'),\n",
       " (1009, 'Music'),\n",
       " (1010, 'Mystery'),\n",
       " (1011, 'Romance'),\n",
       " (1012, 'Thriller'),\n",
       " (1013, 'War')]"
      ]
     },
     "execution_count": 7,
     "metadata": {},
     "output_type": "execute_result"
    }
   ],
   "source": [
    "genres_reading = 'SELECT * FROM genres;'\n",
    "\n",
    "execute_read_query(connection, genres_reading)"
   ]
  },
  {
   "attachments": {},
   "cell_type": "markdown",
   "metadata": {},
   "source": [
    "**#################### QUERIES ####################**"
   ]
  },
  {
   "attachments": {},
   "cell_type": "markdown",
   "metadata": {},
   "source": [
    "**1. SQL query to find the name and year of the movies.**"
   ]
  },
  {
   "cell_type": "code",
   "execution_count": 8,
   "metadata": {},
   "outputs": [
    {
     "data": {
      "text/plain": [
       "[('Vertigo', 1958),\n",
       " ('The Innocents', 1961),\n",
       " ('Lawrence of Arabia', 1962),\n",
       " ('The Deer Hunter', 1978),\n",
       " ('Amadeus', 1984),\n",
       " ('Blade Runner', 1982),\n",
       " ('Eyes Wide Shut', 1999),\n",
       " ('The Usual Suspects', 1995),\n",
       " ('Chinatown', 1974),\n",
       " ('Boogie Nights', 1997),\n",
       " ('Annie Hall', 1977),\n",
       " ('Princess Mononoke', 1997),\n",
       " ('The Shawshank Redemption', 1994),\n",
       " ('American Beauty', 1999),\n",
       " ('Titanic', 1997),\n",
       " ('Good Will Hunting', 1997),\n",
       " ('Deliverance', 1972),\n",
       " ('Trainspotting', 1996),\n",
       " ('The Prestige', 2006),\n",
       " ('Donnie Darko', 2001),\n",
       " ('Slumdog Millionaire', 2008),\n",
       " ('Aliens', 1986),\n",
       " ('Beyond the Sea', 2004),\n",
       " ('Avatar', 2009),\n",
       " ('Braveheart', 1995),\n",
       " ('Seven Samurai', 1954),\n",
       " ('Spirited Away', 2001),\n",
       " ('Back to the Future', 1985)]"
      ]
     },
     "execution_count": 8,
     "metadata": {},
     "output_type": "execute_result"
    }
   ],
   "source": [
    "query_1 = \"\"\"SELECT mov_title, mov_year FROM movie;\"\"\"\n",
    "\n",
    "execute_read_query(connection, query_1)"
   ]
  },
  {
   "attachments": {},
   "cell_type": "markdown",
   "metadata": {},
   "source": [
    "**2. SQL query to find movies released before 1998.**"
   ]
  },
  {
   "cell_type": "code",
   "execution_count": 9,
   "metadata": {},
   "outputs": [
    {
     "data": {
      "text/plain": [
       "[('Vertigo', 1958),\n",
       " ('The Innocents', 1961),\n",
       " ('Lawrence of Arabia', 1962),\n",
       " ('The Deer Hunter', 1978),\n",
       " ('Amadeus', 1984),\n",
       " ('Blade Runner', 1982),\n",
       " ('The Usual Suspects', 1995),\n",
       " ('Chinatown', 1974),\n",
       " ('Boogie Nights', 1997),\n",
       " ('Annie Hall', 1977),\n",
       " ('Princess Mononoke', 1997),\n",
       " ('The Shawshank Redemption', 1994),\n",
       " ('Titanic', 1997),\n",
       " ('Good Will Hunting', 1997),\n",
       " ('Deliverance', 1972),\n",
       " ('Trainspotting', 1996),\n",
       " ('Aliens', 1986),\n",
       " ('Braveheart', 1995),\n",
       " ('Seven Samurai', 1954),\n",
       " ('Back to the Future', 1985)]"
      ]
     },
     "execution_count": 9,
     "metadata": {},
     "output_type": "execute_result"
    }
   ],
   "source": [
    "query_2 = \"\"\"SELECT mov_title, mov_year FROM movie \n",
    "              WHERE mov_year < 1998;\"\"\"\n",
    "\n",
    "execute_read_query(connection, query_2)"
   ]
  },
  {
   "attachments": {},
   "cell_type": "markdown",
   "metadata": {},
   "source": [
    "**3. SQL query to find the names of all critics who have rated with 7 or more stars.**"
   ]
  },
  {
   "cell_type": "code",
   "execution_count": 10,
   "metadata": {},
   "outputs": [
    {
     "data": {
      "text/plain": [
       "[('Righty Sock', 8),\n",
       " ('Jack Malvern', 8),\n",
       " ('Flagrant Baronessa', 8),\n",
       " ('', 8),\n",
       " ('Victor Woeltjen', 7),\n",
       " ('Simon Wright', 9),\n",
       " ('Mike Salvati', 8),\n",
       " ('', 8),\n",
       " ('Sasha Goldshtein', 7),\n",
       " ('Righty Sock', 8),\n",
       " ('Krug Stillo', 8),\n",
       " ('Hannah Steele', 8),\n",
       " ('Vincent Cadena', 8),\n",
       " ('Brandt Sponseller', 8),\n",
       " ('Richard Adams', 7)]"
      ]
     },
     "execution_count": 10,
     "metadata": {},
     "output_type": "execute_result"
    }
   ],
   "source": [
    "query_3 = \"\"\"SELECT re.rev_name, ra.rev_stars\n",
    "              FROM reviewer re, rating ra\n",
    "              \n",
    "              WHERE re.rev_id = ra.rev_id \n",
    "              and ra.rev_stars >= 7;\"\"\"\n",
    "\n",
    "execute_read_query(connection, query_3)"
   ]
  },
  {
   "attachments": {},
   "cell_type": "markdown",
   "metadata": {},
   "source": [
    "**4. SQL query to find the titles of all movies with no ratings.**"
   ]
  },
  {
   "cell_type": "code",
   "execution_count": 11,
   "metadata": {},
   "outputs": [
    {
     "data": {
      "text/plain": [
       "[('Avatar', 0), ('Princess Mononoke', 0)]"
      ]
     },
     "execution_count": 11,
     "metadata": {},
     "output_type": "execute_result"
    }
   ],
   "source": [
    "query_4 = \"\"\"SELECT m.mov_title, ra.num_o_ratings\n",
    "              FROM movie m, rating ra\n",
    "\n",
    "              WHERE m.mov_id = ra.mov_id\n",
    "              and ra.num_o_ratings = 0;\"\"\"\n",
    "\n",
    "execute_read_query(connection, query_4)"
   ]
  },
  {
   "attachments": {},
   "cell_type": "markdown",
   "metadata": {},
   "source": [
    "**5. SQL query to find the list of all movies with the year that include the words Boogie Nights.**"
   ]
  },
  {
   "cell_type": "code",
   "execution_count": 12,
   "metadata": {},
   "outputs": [
    {
     "data": {
      "text/plain": [
       "[('Boogie Nights', 1997)]"
      ]
     },
     "execution_count": 12,
     "metadata": {},
     "output_type": "execute_result"
    }
   ],
   "source": [
    "query_5 = \"\"\"SELECT m.mov_title, m.mov_year\n",
    "              FROM movie m\n",
    "\n",
    "              WHERE m.mov_title LIKE \"Boogie%\" OR m.mov_title LIKE \"Nights%\";\"\"\"\n",
    "\n",
    "execute_read_query(connection, query_5)"
   ]
  },
  {
   "attachments": {},
   "cell_type": "markdown",
   "metadata": {},
   "source": [
    "**6. SQL query to list all the information of actors who played a role in the movie 'Annie Hall'.**"
   ]
  },
  {
   "cell_type": "code",
   "execution_count": 13,
   "metadata": {},
   "outputs": [
    {
     "data": {
      "text/plain": [
       "[(111, 'Woody Allen', 'M')]"
      ]
     },
     "execution_count": 13,
     "metadata": {},
     "output_type": "execute_result"
    }
   ],
   "source": [
    "query_6 = \"\"\"SELECT a.act_id,\n",
    "                    concat(a.act_fname, \" \", a.act_lname),\n",
    "                    a.act_gender\n",
    "              \n",
    "              FROM movie m, actor a, movie_cast mc\n",
    "              \n",
    "              WHERE a.act_id = mc.act_id\n",
    "              and mc.mov_id = m.mov_id\n",
    "              and m.mov_title = \"Annie Hall\";\"\"\"\n",
    "\n",
    "execute_read_query(connection, query_6)"
   ]
  },
  {
   "attachments": {},
   "cell_type": "markdown",
   "metadata": {},
   "source": [
    "**7. SQL query to find the movie title, year, release date, director, and actor for movies whose critic is unknown.**"
   ]
  },
  {
   "cell_type": "code",
   "execution_count": 14,
   "metadata": {},
   "outputs": [
    {
     "data": {
      "text/plain": [
       "[('Blade Runner',\n",
       "  1982,\n",
       "  datetime.date(1982, 9, 9),\n",
       "  'Ridley Scott',\n",
       "  'Harrison Ford'),\n",
       " ('Princess Mononoke',\n",
       "  1997,\n",
       "  datetime.date(2001, 10, 19),\n",
       "  'Hayao Miyazaki',\n",
       "  'Claire Danes')]"
      ]
     },
     "execution_count": 14,
     "metadata": {},
     "output_type": "execute_result"
    }
   ],
   "source": [
    "query_7 = \"\"\"SELECT m.mov_title, m.mov_year, m.mov_dt_rel,\n",
    "                    concat(d.dir_fname, \" \", d.dir_lname),\n",
    "                    concat(a.act_fname, \" \", a.act_lname)\n",
    "\n",
    "              FROM movie m, movie_direction md, director d,\n",
    "                   rating ra, reviewer re,\n",
    "                   movie_cast mc, actor a\n",
    "\n",
    "              WHERE re.rev_id = ra.rev_id \n",
    "              and ra.mov_id = m.mov_id\n",
    "              and m.mov_id = md.mov_id\n",
    "              and md.dir_id = d.dir_id\n",
    "              and m.mov_id = mc.mov_id\n",
    "              and a.act_id = mc.act_id\n",
    "\n",
    "              and trim(re.rev_name) = \"\";\"\"\"\n",
    "\n",
    "execute_read_query(connection, query_7)"
   ]
  },
  {
   "attachments": {},
   "cell_type": "markdown",
   "metadata": {},
   "source": [
    "**8. SQL query to list all movies released in a country other than the United Kingdom.**"
   ]
  },
  {
   "cell_type": "code",
   "execution_count": 15,
   "metadata": {},
   "outputs": [
    {
     "data": {
      "text/plain": [
       "[('The Innocents', 'SW'), ('Annie Hall', 'USA'), ('Seven Samurai', 'JP')]"
      ]
     },
     "execution_count": 15,
     "metadata": {},
     "output_type": "execute_result"
    }
   ],
   "source": [
    "query_8 = \"\"\"SELECT m.mov_title, m.mov_rel_country\n",
    "              FROM movie m\n",
    "              \n",
    "              WHERE m.mov_rel_country != \"UK\";\"\"\"\n",
    "\n",
    "execute_read_query(connection, query_8)"
   ]
  },
  {
   "attachments": {},
   "cell_type": "markdown",
   "metadata": {},
   "source": [
    "**9. SQL query to find all the years in which at least one movie was produced and received a rating of more than 3 stars (results in ascending order).**"
   ]
  },
  {
   "cell_type": "code",
   "execution_count": 16,
   "metadata": {},
   "outputs": [
    {
     "data": {
      "text/plain": [
       "[(1958,),\n",
       " (1961,),\n",
       " (1962,),\n",
       " (1977,),\n",
       " (1982,),\n",
       " (1986,),\n",
       " (1995,),\n",
       " (1997,),\n",
       " (1999,),\n",
       " (2001,),\n",
       " (2004,),\n",
       " (2008,),\n",
       " (2009,)]"
      ]
     },
     "execution_count": 16,
     "metadata": {},
     "output_type": "execute_result"
    }
   ],
   "source": [
    "query_9 = \"\"\"SELECT distinct m.mov_year\n",
    "              FROM movie m, rating ra\n",
    "              \n",
    "              WHERE m.mov_id = ra.mov_id\n",
    "              and ra.rev_stars > 3\n",
    "              \n",
    "              ORDER BY m.mov_year ASC;\"\"\"\n",
    "\n",
    "execute_read_query(connection, query_9)"
   ]
  },
  {
   "attachments": {},
   "cell_type": "markdown",
   "metadata": {},
   "source": [
    "**10. SQL query to find the titles of all movies with no reviewer rating (star ratings).**"
   ]
  },
  {
   "cell_type": "code",
   "execution_count": 17,
   "metadata": {},
   "outputs": [
    {
     "data": {
      "text/plain": [
       "[('Chinatown', 0), ('Trainspotting', 0)]"
      ]
     },
     "execution_count": 17,
     "metadata": {},
     "output_type": "execute_result"
    }
   ],
   "source": [
    "query_10 = \"\"\"SELECT m.mov_title, ra.rev_stars\n",
    "              FROM movie m, rating ra\n",
    "\n",
    "              WHERE m.mov_id = ra.mov_id\n",
    "              and ra.rev_stars = 0;\"\"\"\n",
    "\n",
    "execute_read_query(connection, query_10)"
   ]
  }
 ],
 "metadata": {
  "kernelspec": {
   "display_name": "Python 3",
   "language": "python",
   "name": "python3"
  },
  "language_info": {
   "codemirror_mode": {
    "name": "ipython",
    "version": 3
   },
   "file_extension": ".py",
   "mimetype": "text/x-python",
   "name": "python",
   "nbconvert_exporter": "python",
   "pygments_lexer": "ipython3",
   "version": "3.11.1"
  },
  "orig_nbformat": 4
 },
 "nbformat": 4,
 "nbformat_minor": 2
}

{
 "cells": [
  {
   "cell_type": "markdown",
   "metadata": {},
   "source": [
    "### **Cover from project**"
   ]
  },
  {
   "cell_type": "markdown",
   "metadata": {},
   "source": [
    "#### **Movies database**"
   ]
  },
  {
   "cell_type": "markdown",
   "metadata": {},
   "source": [
    "🎥 🏢 🎬 ⭐"
   ]
  },
  {
   "cell_type": "markdown",
   "metadata": {},
   "source": [
    "To present the management carried out in databases developed with SQL, a structure is proposed with a relational data model focused on classic cinema, specifically on blockbuster movies that have been in theaters. It includes information related to their directors and lead actors, as well as the ratings they received according to contemporary critics.\n",
    "\n",
    "Next, we provide an overview of the files that make up this project and a brief description of their contents:"
   ]
  },
  {
   "cell_type": "markdown",
   "metadata": {},
   "source": [
    "| **File** | **Detail** |\n",
    "| ------------ | ----------- |\n",
    "| *tables_files.tsv* | Folder containing the .tsv (Tab-Separated Values) files with the information to be loaded into the 'movies' database |\n",
    "| *Model_Diagram.PNG* | Screenshot of the EER (Enhanced Entity-Relationship) diagram generated in MySQL, obtained through reverse engineering of the declared model |\n",
    "| *create_tables.sql* | SQL file containing the statements for creating the 'movies' database and additional lines for creating the various tables of the proposed relational model |\n",
    "| *Query_Database.ipynb* | Jupyter Notebook establishing a connection with the mentioned MySQL database for performing and retrieving user-relevant queries using Python functions |\n"
   ]
  }
 ],
 "metadata": {
  "language_info": {
   "name": "python"
  }
 },
 "nbformat": 4,
 "nbformat_minor": 2
}
